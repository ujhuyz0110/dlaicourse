{
 "cells": [
  {
   "cell_type": "markdown",
   "metadata": {
    "colab_type": "text",
    "id": "tOoyQ70H00_s"
   },
   "source": [
    "## Exercise 2\n",
    "In the course you learned how to do classification using Fashion MNIST, a data set containing items of clothing. There's another, similar dataset called MNIST which has items of handwriting -- the digits 0 through 9.\n",
    "\n",
    "Write an MNIST classifier that trains to 99% accuracy or above, and does it without a fixed number of epochs -- i.e. you should stop training once you reach that level of accuracy.\n",
    "\n",
    "Some notes:\n",
    "1. It should succeed in less than 10 epochs, so it is okay to change epochs to 10, but nothing larger\n",
    "2. When it reaches 99% or greater it should print out the string \"Reached 99% accuracy so cancelling training!\"\n",
    "3. If you add any additional variables, make sure you use the same names as the ones used in the class\n",
    "\n",
    "I've started the code for you below -- how would you finish it? "
   ]
  },
  {
   "cell_type": "code",
   "execution_count": 2,
   "metadata": {
    "colab": {},
    "colab_type": "code",
    "id": "9rvXQGAA0ssC"
   },
   "outputs": [],
   "source": [
    "import tensorflow as tf"
   ]
  },
  {
   "cell_type": "code",
   "execution_count": 4,
   "metadata": {
    "colab": {},
    "colab_type": "code",
    "id": "9rvXQGAA0ssC"
   },
   "outputs": [],
   "source": [
    "mnist = tf.keras.datasets.mnist\n",
    "\n",
    "(x_train, y_train), (x_test, y_test) = mnist.load_data()"
   ]
  },
  {
   "cell_type": "code",
   "execution_count": 5,
   "metadata": {},
   "outputs": [
    {
     "data": {
      "text/plain": [
       "(60000, 28, 28)"
      ]
     },
     "execution_count": 5,
     "metadata": {},
     "output_type": "execute_result"
    }
   ],
   "source": [
    "x_train.shape"
   ]
  },
  {
   "cell_type": "code",
   "execution_count": 7,
   "metadata": {
    "colab": {},
    "colab_type": "code",
    "id": "9rvXQGAA0ssC"
   },
   "outputs": [
    {
     "name": "stdout",
     "output_type": "stream",
     "text": [
      "Epoch 1/10\n",
      "60000/60000 [==============================] - 9s 156us/sample - loss: 0.6316 - acc: 0.8121\n",
      "Epoch 2/10\n",
      "60000/60000 [==============================] - 9s 152us/sample - loss: 0.3153 - acc: 0.9066\n",
      "Epoch 3/10\n",
      "60000/60000 [==============================] - 9s 153us/sample - loss: 0.2505 - acc: 0.9259\n",
      "Epoch 4/10\n",
      "60000/60000 [==============================] - 9s 152us/sample - loss: 0.2003 - acc: 0.9412\n",
      "Epoch 5/10\n",
      "60000/60000 [==============================] - 10s 158us/sample - loss: 0.1633 - acc: 0.9518\n",
      "Epoch 6/10\n",
      "60000/60000 [==============================] - 9s 157us/sample - loss: 0.1360 - acc: 0.9595\n",
      "Epoch 7/10\n",
      "60000/60000 [==============================] - 9s 156us/sample - loss: 0.1160 - acc: 0.9652\n",
      "Epoch 8/10\n",
      "60000/60000 [==============================] - 9s 157us/sample - loss: 0.1001 - acc: 0.9697\n",
      "Epoch 9/10\n",
      "60000/60000 [==============================] - 10s 159us/sample - loss: 0.0875 - acc: 0.9731\n",
      "Epoch 10/10\n",
      "60000/60000 [==============================] - 10s 163us/sample - loss: 0.0758 - acc: 0.9771\n"
     ]
    },
    {
     "data": {
      "text/plain": [
       "<tensorflow.python.keras.callbacks.History at 0x140cb95c0>"
      ]
     },
     "execution_count": 7,
     "metadata": {},
     "output_type": "execute_result"
    }
   ],
   "source": [
    "x_train = x_train / 255.0\n",
    "x_test = x_test / 255.0\n",
    "\n",
    "model = tf.keras.models.Sequential([\n",
    "    tf.keras.layers.Flatten(input_shape=(28, 28)),\n",
    "    tf.keras.layers.Dense(units=512, activation='relu'),\n",
    "    tf.keras.layers.Dense(units=128, activation='relu'),    \n",
    "    tf.keras.layers.Dense(units=10, activation='softmax')\n",
    "])\n",
    "\n",
    "model.compile(optimizer='adam',\n",
    "              loss='sparse_categorical_crossentropy',\n",
    "              metrics=['accuracy'])\n",
    "\n",
    "model.fit(x_train, y_train, epochs=10)"
   ]
  },
  {
   "cell_type": "code",
   "execution_count": 21,
   "metadata": {},
   "outputs": [
    {
     "name": "stdout",
     "output_type": "stream",
     "text": [
      "10000/10000 [==============================] - 0s 47us/sample - loss: 0.0788 - acc: 0.9806\n"
     ]
    },
    {
     "data": {
      "text/plain": [
       "[0.07875923436823214, 0.9806]"
      ]
     },
     "execution_count": 21,
     "metadata": {},
     "output_type": "execute_result"
    }
   ],
   "source": [
    "model.evaluate(x_test, y_test)"
   ]
  },
  {
   "cell_type": "code",
   "execution_count": 8,
   "metadata": {
    "colab": {},
    "colab_type": "code",
    "id": "9rvXQGAA0ssC"
   },
   "outputs": [
    {
     "name": "stdout",
     "output_type": "stream",
     "text": [
      "Epoch 1/30\n",
      "60000/60000 [==============================] - 10s 162us/sample - loss: 0.0680 - acc: 0.9791\n",
      "Epoch 2/30\n",
      "60000/60000 [==============================] - 9s 156us/sample - loss: 0.0602 - acc: 0.9811\n",
      "Epoch 3/30\n",
      "60000/60000 [==============================] - 10s 158us/sample - loss: 0.0531 - acc: 0.9840\n",
      "Epoch 4/30\n",
      "60000/60000 [==============================] - 9s 155us/sample - loss: 0.0485 - acc: 0.9849\n",
      "Epoch 5/30\n",
      "60000/60000 [==============================] - 11s 187us/sample - loss: 0.0419 - acc: 0.9873\n",
      "Epoch 6/30\n",
      "60000/60000 [==============================] - 11s 178us/sample - loss: 0.0376 - acc: 0.9885\n",
      "Epoch 7/30\n",
      "60000/60000 [==============================] - 11s 175us/sample - loss: 0.0339 - acc: 0.9897\n",
      "Epoch 8/30\n",
      "59744/60000 [============================>.] - ETA: 0s - loss: 0.0303 - acc: 0.9909Reached 99% accuracy so cancelling training!\n",
      "60000/60000 [==============================] - 12s 195us/sample - loss: 0.0303 - acc: 0.9909\n"
     ]
    },
    {
     "data": {
      "text/plain": [
       "<tensorflow.python.keras.callbacks.History at 0x1377f0eb8>"
      ]
     },
     "execution_count": 8,
     "metadata": {},
     "output_type": "execute_result"
    }
   ],
   "source": [
    "class EarlyTermination(tf.keras.callbacks.Callback):\n",
    "    \n",
    "    def on_epoch_end(self, epoch, logs={}):\n",
    "        if 0.99 < logs.get('acc'):\n",
    "            print('Reached 99% accuracy so cancelling training!')\n",
    "            self.model.stop_training = True\n",
    "\n",
    "callback = EarlyTermination()\n",
    "model.fit(x_train, y_train, epochs=30, callbacks=[callback])"
   ]
  },
  {
   "cell_type": "code",
   "execution_count": 9,
   "metadata": {},
   "outputs": [
    {
     "name": "stdout",
     "output_type": "stream",
     "text": [
      "10000/10000 [==============================] - 1s 83us/sample - loss: 0.0779 - acc: 0.9755\n"
     ]
    },
    {
     "data": {
      "text/plain": [
       "[0.0779199361164705, 0.9755]"
      ]
     },
     "execution_count": 9,
     "metadata": {},
     "output_type": "execute_result"
    }
   ],
   "source": [
    "model.evaluate(x_test, y_test)"
   ]
  },
  {
   "cell_type": "code",
   "execution_count": null,
   "metadata": {},
   "outputs": [],
   "source": []
  }
 ],
 "metadata": {
  "colab": {
   "collapsed_sections": [],
   "name": "Exercise2-Question.ipynb",
   "provenance": [],
   "version": "0.3.2"
  },
  "kernelspec": {
   "display_name": "Python 3",
   "language": "python",
   "name": "python3"
  },
  "language_info": {
   "codemirror_mode": {
    "name": "ipython",
    "version": 3
   },
   "file_extension": ".py",
   "mimetype": "text/x-python",
   "name": "python",
   "nbconvert_exporter": "python",
   "pygments_lexer": "ipython3",
   "version": "3.7.3"
  }
 },
 "nbformat": 4,
 "nbformat_minor": 2
}
